{
 "cells": [
  {
   "cell_type": "code",
   "execution_count": 1,
   "id": "4f1371c1-1c62-4e7b-affd-4a72b410f261",
   "metadata": {},
   "outputs": [],
   "source": [
    "import pandas as pd\n",
    "import numpy as np"
   ]
  },
  {
   "cell_type": "code",
   "execution_count": 2,
   "id": "9cbae25c-f9f6-4d5a-8a90-f27066abb8a8",
   "metadata": {},
   "outputs": [],
   "source": [
    "data=pd.read_csv(\"House.csv\")"
   ]
  },
  {
   "cell_type": "code",
   "execution_count": 3,
   "id": "9e49ef1f-1c2d-4fda-a37e-64b14983238c",
   "metadata": {},
   "outputs": [
    {
     "data": {
      "text/html": [
       "<div>\n",
       "<style scoped>\n",
       "    .dataframe tbody tr th:only-of-type {\n",
       "        vertical-align: middle;\n",
       "    }\n",
       "\n",
       "    .dataframe tbody tr th {\n",
       "        vertical-align: top;\n",
       "    }\n",
       "\n",
       "    .dataframe thead th {\n",
       "        text-align: right;\n",
       "    }\n",
       "</style>\n",
       "<table border=\"1\" class=\"dataframe\">\n",
       "  <thead>\n",
       "    <tr style=\"text-align: right;\">\n",
       "      <th></th>\n",
       "      <th>Bedrooms</th>\n",
       "      <th>Bathrooms</th>\n",
       "      <th>Status</th>\n",
       "      <th>Location</th>\n",
       "      <th>Price</th>\n",
       "      <th>Facing</th>\n",
       "      <th>Type</th>\n",
       "      <th>Size</th>\n",
       "    </tr>\n",
       "  </thead>\n",
       "  <tbody>\n",
       "    <tr>\n",
       "      <th>0</th>\n",
       "      <td>0</td>\n",
       "      <td>0</td>\n",
       "      <td>0</td>\n",
       "      <td>34</td>\n",
       "      <td>68.04</td>\n",
       "      <td>1</td>\n",
       "      <td>3</td>\n",
       "      <td>1944</td>\n",
       "    </tr>\n",
       "    <tr>\n",
       "      <th>1</th>\n",
       "      <td>2</td>\n",
       "      <td>2</td>\n",
       "      <td>1</td>\n",
       "      <td>17</td>\n",
       "      <td>45.57</td>\n",
       "      <td>1</td>\n",
       "      <td>0</td>\n",
       "      <td>1266</td>\n",
       "    </tr>\n",
       "    <tr>\n",
       "      <th>2</th>\n",
       "      <td>3</td>\n",
       "      <td>3</td>\n",
       "      <td>1</td>\n",
       "      <td>56</td>\n",
       "      <td>55.50</td>\n",
       "      <td>8</td>\n",
       "      <td>0</td>\n",
       "      <td>1587</td>\n",
       "    </tr>\n",
       "    <tr>\n",
       "      <th>3</th>\n",
       "      <td>0</td>\n",
       "      <td>0</td>\n",
       "      <td>2</td>\n",
       "      <td>31</td>\n",
       "      <td>15.50</td>\n",
       "      <td>0</td>\n",
       "      <td>3</td>\n",
       "      <td>1560</td>\n",
       "    </tr>\n",
       "    <tr>\n",
       "      <th>4</th>\n",
       "      <td>2</td>\n",
       "      <td>2</td>\n",
       "      <td>1</td>\n",
       "      <td>56</td>\n",
       "      <td>48.00</td>\n",
       "      <td>1</td>\n",
       "      <td>0</td>\n",
       "      <td>1450</td>\n",
       "    </tr>\n",
       "    <tr>\n",
       "      <th>...</th>\n",
       "      <td>...</td>\n",
       "      <td>...</td>\n",
       "      <td>...</td>\n",
       "      <td>...</td>\n",
       "      <td>...</td>\n",
       "      <td>...</td>\n",
       "      <td>...</td>\n",
       "      <td>...</td>\n",
       "    </tr>\n",
       "    <tr>\n",
       "      <th>909</th>\n",
       "      <td>0</td>\n",
       "      <td>0</td>\n",
       "      <td>2</td>\n",
       "      <td>4</td>\n",
       "      <td>85.80</td>\n",
       "      <td>8</td>\n",
       "      <td>3</td>\n",
       "      <td>2040</td>\n",
       "    </tr>\n",
       "    <tr>\n",
       "      <th>910</th>\n",
       "      <td>0</td>\n",
       "      <td>0</td>\n",
       "      <td>2</td>\n",
       "      <td>4</td>\n",
       "      <td>85.80</td>\n",
       "      <td>8</td>\n",
       "      <td>3</td>\n",
       "      <td>2040</td>\n",
       "    </tr>\n",
       "    <tr>\n",
       "      <th>911</th>\n",
       "      <td>0</td>\n",
       "      <td>0</td>\n",
       "      <td>2</td>\n",
       "      <td>4</td>\n",
       "      <td>85.80</td>\n",
       "      <td>8</td>\n",
       "      <td>3</td>\n",
       "      <td>2040</td>\n",
       "    </tr>\n",
       "    <tr>\n",
       "      <th>912</th>\n",
       "      <td>0</td>\n",
       "      <td>0</td>\n",
       "      <td>2</td>\n",
       "      <td>4</td>\n",
       "      <td>85.80</td>\n",
       "      <td>8</td>\n",
       "      <td>3</td>\n",
       "      <td>2040</td>\n",
       "    </tr>\n",
       "    <tr>\n",
       "      <th>913</th>\n",
       "      <td>0</td>\n",
       "      <td>0</td>\n",
       "      <td>0</td>\n",
       "      <td>80</td>\n",
       "      <td>19.95</td>\n",
       "      <td>0</td>\n",
       "      <td>3</td>\n",
       "      <td>2394</td>\n",
       "    </tr>\n",
       "  </tbody>\n",
       "</table>\n",
       "<p>914 rows × 8 columns</p>\n",
       "</div>"
      ],
      "text/plain": [
       "     Bedrooms  Bathrooms  Status  Location  Price  Facing  Type  Size\n",
       "0           0          0       0        34  68.04       1     3  1944\n",
       "1           2          2       1        17  45.57       1     0  1266\n",
       "2           3          3       1        56  55.50       8     0  1587\n",
       "3           0          0       2        31  15.50       0     3  1560\n",
       "4           2          2       1        56  48.00       1     0  1450\n",
       "..        ...        ...     ...       ...    ...     ...   ...   ...\n",
       "909         0          0       2         4  85.80       8     3  2040\n",
       "910         0          0       2         4  85.80       8     3  2040\n",
       "911         0          0       2         4  85.80       8     3  2040\n",
       "912         0          0       2         4  85.80       8     3  2040\n",
       "913         0          0       0        80  19.95       0     3  2394\n",
       "\n",
       "[914 rows x 8 columns]"
      ]
     },
     "execution_count": 3,
     "metadata": {},
     "output_type": "execute_result"
    }
   ],
   "source": [
    "data"
   ]
  },
  {
   "cell_type": "code",
   "execution_count": 4,
   "id": "fcc4e2d1-ef76-4f1e-b3e6-63a93f565045",
   "metadata": {},
   "outputs": [
    {
     "data": {
      "text/html": [
       "<div>\n",
       "<style scoped>\n",
       "    .dataframe tbody tr th:only-of-type {\n",
       "        vertical-align: middle;\n",
       "    }\n",
       "\n",
       "    .dataframe tbody tr th {\n",
       "        vertical-align: top;\n",
       "    }\n",
       "\n",
       "    .dataframe thead th {\n",
       "        text-align: right;\n",
       "    }\n",
       "</style>\n",
       "<table border=\"1\" class=\"dataframe\">\n",
       "  <thead>\n",
       "    <tr style=\"text-align: right;\">\n",
       "      <th></th>\n",
       "      <th>Bedrooms</th>\n",
       "      <th>Bathrooms</th>\n",
       "      <th>Status</th>\n",
       "      <th>Location</th>\n",
       "      <th>Price</th>\n",
       "      <th>Facing</th>\n",
       "      <th>Type</th>\n",
       "      <th>Size</th>\n",
       "    </tr>\n",
       "  </thead>\n",
       "  <tbody>\n",
       "    <tr>\n",
       "      <th>909</th>\n",
       "      <td>0</td>\n",
       "      <td>0</td>\n",
       "      <td>2</td>\n",
       "      <td>4</td>\n",
       "      <td>85.80</td>\n",
       "      <td>8</td>\n",
       "      <td>3</td>\n",
       "      <td>2040</td>\n",
       "    </tr>\n",
       "    <tr>\n",
       "      <th>910</th>\n",
       "      <td>0</td>\n",
       "      <td>0</td>\n",
       "      <td>2</td>\n",
       "      <td>4</td>\n",
       "      <td>85.80</td>\n",
       "      <td>8</td>\n",
       "      <td>3</td>\n",
       "      <td>2040</td>\n",
       "    </tr>\n",
       "    <tr>\n",
       "      <th>911</th>\n",
       "      <td>0</td>\n",
       "      <td>0</td>\n",
       "      <td>2</td>\n",
       "      <td>4</td>\n",
       "      <td>85.80</td>\n",
       "      <td>8</td>\n",
       "      <td>3</td>\n",
       "      <td>2040</td>\n",
       "    </tr>\n",
       "    <tr>\n",
       "      <th>912</th>\n",
       "      <td>0</td>\n",
       "      <td>0</td>\n",
       "      <td>2</td>\n",
       "      <td>4</td>\n",
       "      <td>85.80</td>\n",
       "      <td>8</td>\n",
       "      <td>3</td>\n",
       "      <td>2040</td>\n",
       "    </tr>\n",
       "    <tr>\n",
       "      <th>913</th>\n",
       "      <td>0</td>\n",
       "      <td>0</td>\n",
       "      <td>0</td>\n",
       "      <td>80</td>\n",
       "      <td>19.95</td>\n",
       "      <td>0</td>\n",
       "      <td>3</td>\n",
       "      <td>2394</td>\n",
       "    </tr>\n",
       "  </tbody>\n",
       "</table>\n",
       "</div>"
      ],
      "text/plain": [
       "     Bedrooms  Bathrooms  Status  Location  Price  Facing  Type  Size\n",
       "909         0          0       2         4  85.80       8     3  2040\n",
       "910         0          0       2         4  85.80       8     3  2040\n",
       "911         0          0       2         4  85.80       8     3  2040\n",
       "912         0          0       2         4  85.80       8     3  2040\n",
       "913         0          0       0        80  19.95       0     3  2394"
      ]
     },
     "execution_count": 4,
     "metadata": {},
     "output_type": "execute_result"
    }
   ],
   "source": [
    "data.tail()"
   ]
  },
  {
   "cell_type": "code",
   "execution_count": 5,
   "id": "5e565dc6-0521-4e5f-a4e3-b0deb4d009d6",
   "metadata": {},
   "outputs": [
    {
     "data": {
      "text/html": [
       "<div>\n",
       "<style scoped>\n",
       "    .dataframe tbody tr th:only-of-type {\n",
       "        vertical-align: middle;\n",
       "    }\n",
       "\n",
       "    .dataframe tbody tr th {\n",
       "        vertical-align: top;\n",
       "    }\n",
       "\n",
       "    .dataframe thead th {\n",
       "        text-align: right;\n",
       "    }\n",
       "</style>\n",
       "<table border=\"1\" class=\"dataframe\">\n",
       "  <thead>\n",
       "    <tr style=\"text-align: right;\">\n",
       "      <th></th>\n",
       "      <th>Bedrooms</th>\n",
       "      <th>Bathrooms</th>\n",
       "      <th>Status</th>\n",
       "      <th>Location</th>\n",
       "      <th>Price</th>\n",
       "      <th>Facing</th>\n",
       "      <th>Type</th>\n",
       "      <th>Size</th>\n",
       "    </tr>\n",
       "  </thead>\n",
       "  <tbody>\n",
       "    <tr>\n",
       "      <th>0</th>\n",
       "      <td>0</td>\n",
       "      <td>0</td>\n",
       "      <td>0</td>\n",
       "      <td>34</td>\n",
       "      <td>68.04</td>\n",
       "      <td>1</td>\n",
       "      <td>3</td>\n",
       "      <td>1944</td>\n",
       "    </tr>\n",
       "    <tr>\n",
       "      <th>1</th>\n",
       "      <td>2</td>\n",
       "      <td>2</td>\n",
       "      <td>1</td>\n",
       "      <td>17</td>\n",
       "      <td>45.57</td>\n",
       "      <td>1</td>\n",
       "      <td>0</td>\n",
       "      <td>1266</td>\n",
       "    </tr>\n",
       "    <tr>\n",
       "      <th>2</th>\n",
       "      <td>3</td>\n",
       "      <td>3</td>\n",
       "      <td>1</td>\n",
       "      <td>56</td>\n",
       "      <td>55.50</td>\n",
       "      <td>8</td>\n",
       "      <td>0</td>\n",
       "      <td>1587</td>\n",
       "    </tr>\n",
       "    <tr>\n",
       "      <th>3</th>\n",
       "      <td>0</td>\n",
       "      <td>0</td>\n",
       "      <td>2</td>\n",
       "      <td>31</td>\n",
       "      <td>15.50</td>\n",
       "      <td>0</td>\n",
       "      <td>3</td>\n",
       "      <td>1560</td>\n",
       "    </tr>\n",
       "    <tr>\n",
       "      <th>4</th>\n",
       "      <td>2</td>\n",
       "      <td>2</td>\n",
       "      <td>1</td>\n",
       "      <td>56</td>\n",
       "      <td>48.00</td>\n",
       "      <td>1</td>\n",
       "      <td>0</td>\n",
       "      <td>1450</td>\n",
       "    </tr>\n",
       "  </tbody>\n",
       "</table>\n",
       "</div>"
      ],
      "text/plain": [
       "   Bedrooms  Bathrooms  Status  Location  Price  Facing  Type  Size\n",
       "0         0          0       0        34  68.04       1     3  1944\n",
       "1         2          2       1        17  45.57       1     0  1266\n",
       "2         3          3       1        56  55.50       8     0  1587\n",
       "3         0          0       2        31  15.50       0     3  1560\n",
       "4         2          2       1        56  48.00       1     0  1450"
      ]
     },
     "execution_count": 5,
     "metadata": {},
     "output_type": "execute_result"
    }
   ],
   "source": [
    "data.head()"
   ]
  },
  {
   "cell_type": "code",
   "execution_count": 6,
   "id": "66fdbefa-9991-47c9-9c22-e12f933e72c0",
   "metadata": {},
   "outputs": [
    {
     "data": {
      "text/plain": [
       "Bedrooms     0\n",
       "Bathrooms    0\n",
       "Status       0\n",
       "Location     0\n",
       "Price        0\n",
       "Facing       0\n",
       "Type         0\n",
       "Size         0\n",
       "dtype: int64"
      ]
     },
     "execution_count": 6,
     "metadata": {},
     "output_type": "execute_result"
    }
   ],
   "source": [
    "data.isnull().sum()"
   ]
  },
  {
   "cell_type": "code",
   "execution_count": 7,
   "id": "ee36c15d-d531-42e1-8b23-5ac475fcf13a",
   "metadata": {},
   "outputs": [
    {
     "data": {
      "text/plain": [
       "array([34, 17, 56, 31, 23, 18, 14,  7, 77, 55, 52, 32, 45, 11, 13, 62,  8,\n",
       "       67, 82, 63, 38, 20, 72, 37, 85,  0,  2, 26, 64, 44, 33, 40, 81, 19,\n",
       "        1, 48, 47,  6, 46, 28, 74, 41, 71, 15, 57, 42, 75, 10, 24, 73, 21,\n",
       "       59, 88, 22,  4, 39, 30, 50, 78, 29,  5, 51, 49, 66, 76, 70, 79, 61,\n",
       "       16, 43, 84,  9, 86, 53, 58, 80], dtype=int64)"
      ]
     },
     "execution_count": 7,
     "metadata": {},
     "output_type": "execute_result"
    }
   ],
   "source": [
    "data['Location'].unique()"
   ]
  },
  {
   "cell_type": "code",
   "execution_count": 8,
   "id": "c2fb3b29-b84f-4cda-aecf-eccf150424ec",
   "metadata": {},
   "outputs": [
    {
     "data": {
      "text/plain": [
       "<bound method NDFrame.describe of      Bedrooms  Bathrooms  Status  Location  Price  Facing  Type  Size\n",
       "0           0          0       0        34  68.04       1     3  1944\n",
       "1           2          2       1        17  45.57       1     0  1266\n",
       "2           3          3       1        56  55.50       8     0  1587\n",
       "3           0          0       2        31  15.50       0     3  1560\n",
       "4           2          2       1        56  48.00       1     0  1450\n",
       "..        ...        ...     ...       ...    ...     ...   ...   ...\n",
       "909         0          0       2         4  85.80       8     3  2040\n",
       "910         0          0       2         4  85.80       8     3  2040\n",
       "911         0          0       2         4  85.80       8     3  2040\n",
       "912         0          0       2         4  85.80       8     3  2040\n",
       "913         0          0       0        80  19.95       0     3  2394\n",
       "\n",
       "[914 rows x 8 columns]>"
      ]
     },
     "execution_count": 8,
     "metadata": {},
     "output_type": "execute_result"
    }
   ],
   "source": [
    "data.describe"
   ]
  },
  {
   "cell_type": "code",
   "execution_count": 9,
   "id": "bcf83d49-b7a4-4056-9924-dc1a230c545c",
   "metadata": {},
   "outputs": [],
   "source": [
    "from sklearn.model_selection import train_test_split\n",
    "from sklearn.linear_model import LinearRegression"
   ]
  },
  {
   "cell_type": "code",
   "execution_count": 10,
   "id": "28f212ea-3c9e-42f9-8e98-43af89010196",
   "metadata": {},
   "outputs": [
    {
     "data": {
      "text/plain": [
       "(array([[0, 1],\n",
       "        [2, 3],\n",
       "        [4, 5],\n",
       "        [6, 7],\n",
       "        [8, 9]]),\n",
       " range(0, 5))"
      ]
     },
     "execution_count": 10,
     "metadata": {},
     "output_type": "execute_result"
    }
   ],
   "source": [
    "a,b=np.arange(10).reshape(5,2),range(5)\n",
    "a,b"
   ]
  },
  {
   "cell_type": "code",
   "execution_count": 11,
   "id": "0deb7534-9faf-488c-9ce6-2546b82d8045",
   "metadata": {},
   "outputs": [
    {
     "data": {
      "text/plain": [
       "(array([[8, 9],\n",
       "        [0, 1],\n",
       "        [6, 7]]),\n",
       " array([[4, 5],\n",
       "        [2, 3]]),\n",
       " [4, 0, 3],\n",
       " [2, 1])"
      ]
     },
     "execution_count": 11,
     "metadata": {},
     "output_type": "execute_result"
    }
   ],
   "source": [
    "w,p,q,r=train_test_split(a,b,random_state=1,test_size=0.3)\n",
    "w,p,q,r"
   ]
  },
  {
   "cell_type": "code",
   "execution_count": 12,
   "id": "c05fe5d2-22c6-4ccd-a794-32fc74fe2b1b",
   "metadata": {},
   "outputs": [
    {
     "name": "stdout",
     "output_type": "stream",
     "text": [
      "<class 'pandas.core.frame.DataFrame'>\n",
      "RangeIndex: 914 entries, 0 to 913\n",
      "Data columns (total 8 columns):\n",
      " #   Column     Non-Null Count  Dtype  \n",
      "---  ------     --------------  -----  \n",
      " 0   Bedrooms   914 non-null    int64  \n",
      " 1   Bathrooms  914 non-null    int64  \n",
      " 2   Status     914 non-null    int64  \n",
      " 3   Location   914 non-null    int64  \n",
      " 4   Price      914 non-null    float64\n",
      " 5   Facing     914 non-null    int64  \n",
      " 6   Type       914 non-null    int64  \n",
      " 7   Size       914 non-null    int64  \n",
      "dtypes: float64(1), int64(7)\n",
      "memory usage: 57.2 KB\n"
     ]
    }
   ],
   "source": [
    "data.info()"
   ]
  },
  {
   "cell_type": "code",
   "execution_count": 13,
   "id": "c87dc483-31ea-415c-9817-0d0365d436b7",
   "metadata": {},
   "outputs": [],
   "source": [
    "x=data.drop(columns=['Price'])\n",
    "y=data['Price']"
   ]
  },
  {
   "cell_type": "code",
   "execution_count": 14,
   "id": "b10b25eb-6d80-4962-a0e4-58ed37f61ecf",
   "metadata": {},
   "outputs": [
    {
     "data": {
      "text/html": [
       "<div>\n",
       "<style scoped>\n",
       "    .dataframe tbody tr th:only-of-type {\n",
       "        vertical-align: middle;\n",
       "    }\n",
       "\n",
       "    .dataframe tbody tr th {\n",
       "        vertical-align: top;\n",
       "    }\n",
       "\n",
       "    .dataframe thead th {\n",
       "        text-align: right;\n",
       "    }\n",
       "</style>\n",
       "<table border=\"1\" class=\"dataframe\">\n",
       "  <thead>\n",
       "    <tr style=\"text-align: right;\">\n",
       "      <th></th>\n",
       "      <th>Bedrooms</th>\n",
       "      <th>Bathrooms</th>\n",
       "      <th>Status</th>\n",
       "      <th>Location</th>\n",
       "      <th>Facing</th>\n",
       "      <th>Type</th>\n",
       "      <th>Size</th>\n",
       "    </tr>\n",
       "  </thead>\n",
       "  <tbody>\n",
       "    <tr>\n",
       "      <th>0</th>\n",
       "      <td>0</td>\n",
       "      <td>0</td>\n",
       "      <td>0</td>\n",
       "      <td>34</td>\n",
       "      <td>1</td>\n",
       "      <td>3</td>\n",
       "      <td>1944</td>\n",
       "    </tr>\n",
       "    <tr>\n",
       "      <th>1</th>\n",
       "      <td>2</td>\n",
       "      <td>2</td>\n",
       "      <td>1</td>\n",
       "      <td>17</td>\n",
       "      <td>1</td>\n",
       "      <td>0</td>\n",
       "      <td>1266</td>\n",
       "    </tr>\n",
       "    <tr>\n",
       "      <th>2</th>\n",
       "      <td>3</td>\n",
       "      <td>3</td>\n",
       "      <td>1</td>\n",
       "      <td>56</td>\n",
       "      <td>8</td>\n",
       "      <td>0</td>\n",
       "      <td>1587</td>\n",
       "    </tr>\n",
       "    <tr>\n",
       "      <th>3</th>\n",
       "      <td>0</td>\n",
       "      <td>0</td>\n",
       "      <td>2</td>\n",
       "      <td>31</td>\n",
       "      <td>0</td>\n",
       "      <td>3</td>\n",
       "      <td>1560</td>\n",
       "    </tr>\n",
       "    <tr>\n",
       "      <th>4</th>\n",
       "      <td>2</td>\n",
       "      <td>2</td>\n",
       "      <td>1</td>\n",
       "      <td>56</td>\n",
       "      <td>1</td>\n",
       "      <td>0</td>\n",
       "      <td>1450</td>\n",
       "    </tr>\n",
       "  </tbody>\n",
       "</table>\n",
       "</div>"
      ],
      "text/plain": [
       "   Bedrooms  Bathrooms  Status  Location  Facing  Type  Size\n",
       "0         0          0       0        34       1     3  1944\n",
       "1         2          2       1        17       1     0  1266\n",
       "2         3          3       1        56       8     0  1587\n",
       "3         0          0       2        31       0     3  1560\n",
       "4         2          2       1        56       1     0  1450"
      ]
     },
     "execution_count": 14,
     "metadata": {},
     "output_type": "execute_result"
    }
   ],
   "source": [
    "x.head()"
   ]
  },
  {
   "cell_type": "code",
   "execution_count": 15,
   "id": "b87b6967-6575-4751-bc51-16db9f9539dc",
   "metadata": {},
   "outputs": [
    {
     "data": {
      "text/plain": [
       "0    68.04\n",
       "1    45.57\n",
       "2    55.50\n",
       "3    15.50\n",
       "4    48.00\n",
       "Name: Price, dtype: float64"
      ]
     },
     "execution_count": 15,
     "metadata": {},
     "output_type": "execute_result"
    }
   ],
   "source": [
    "y.head()"
   ]
  },
  {
   "cell_type": "code",
   "execution_count": 16,
   "id": "cc63ef1c-4b42-48a1-857f-c2ef0d2906fb",
   "metadata": {},
   "outputs": [],
   "source": [
    "x_train,x_test,y_train,y_test=train_test_split(x,y,test_size=0.2,random_state=42)"
   ]
  },
  {
   "cell_type": "code",
   "execution_count": 17,
   "id": "bb3f753a-5dc0-4f51-b804-ee94709c10c6",
   "metadata": {},
   "outputs": [
    {
     "data": {
      "text/plain": [
       "(731, 183)"
      ]
     },
     "execution_count": 17,
     "metadata": {},
     "output_type": "execute_result"
    }
   ],
   "source": [
    "len(x_train),len(x_test)"
   ]
  },
  {
   "cell_type": "code",
   "execution_count": 18,
   "id": "b3cb4286-65ca-4235-8b64-e732d7e1ea01",
   "metadata": {},
   "outputs": [],
   "source": [
    "lin_reg=LinearRegression()"
   ]
  },
  {
   "cell_type": "code",
   "execution_count": 19,
   "id": "e91e3db0-bf1c-4da3-a2e9-6001c81d34e2",
   "metadata": {},
   "outputs": [
    {
     "data": {
      "text/html": [
       "<style>#sk-container-id-1 {color: black;background-color: white;}#sk-container-id-1 pre{padding: 0;}#sk-container-id-1 div.sk-toggleable {background-color: white;}#sk-container-id-1 label.sk-toggleable__label {cursor: pointer;display: block;width: 100%;margin-bottom: 0;padding: 0.3em;box-sizing: border-box;text-align: center;}#sk-container-id-1 label.sk-toggleable__label-arrow:before {content: \"▸\";float: left;margin-right: 0.25em;color: #696969;}#sk-container-id-1 label.sk-toggleable__label-arrow:hover:before {color: black;}#sk-container-id-1 div.sk-estimator:hover label.sk-toggleable__label-arrow:before {color: black;}#sk-container-id-1 div.sk-toggleable__content {max-height: 0;max-width: 0;overflow: hidden;text-align: left;background-color: #f0f8ff;}#sk-container-id-1 div.sk-toggleable__content pre {margin: 0.2em;color: black;border-radius: 0.25em;background-color: #f0f8ff;}#sk-container-id-1 input.sk-toggleable__control:checked~div.sk-toggleable__content {max-height: 200px;max-width: 100%;overflow: auto;}#sk-container-id-1 input.sk-toggleable__control:checked~label.sk-toggleable__label-arrow:before {content: \"▾\";}#sk-container-id-1 div.sk-estimator input.sk-toggleable__control:checked~label.sk-toggleable__label {background-color: #d4ebff;}#sk-container-id-1 div.sk-label input.sk-toggleable__control:checked~label.sk-toggleable__label {background-color: #d4ebff;}#sk-container-id-1 input.sk-hidden--visually {border: 0;clip: rect(1px 1px 1px 1px);clip: rect(1px, 1px, 1px, 1px);height: 1px;margin: -1px;overflow: hidden;padding: 0;position: absolute;width: 1px;}#sk-container-id-1 div.sk-estimator {font-family: monospace;background-color: #f0f8ff;border: 1px dotted black;border-radius: 0.25em;box-sizing: border-box;margin-bottom: 0.5em;}#sk-container-id-1 div.sk-estimator:hover {background-color: #d4ebff;}#sk-container-id-1 div.sk-parallel-item::after {content: \"\";width: 100%;border-bottom: 1px solid gray;flex-grow: 1;}#sk-container-id-1 div.sk-label:hover label.sk-toggleable__label {background-color: #d4ebff;}#sk-container-id-1 div.sk-serial::before {content: \"\";position: absolute;border-left: 1px solid gray;box-sizing: border-box;top: 0;bottom: 0;left: 50%;z-index: 0;}#sk-container-id-1 div.sk-serial {display: flex;flex-direction: column;align-items: center;background-color: white;padding-right: 0.2em;padding-left: 0.2em;position: relative;}#sk-container-id-1 div.sk-item {position: relative;z-index: 1;}#sk-container-id-1 div.sk-parallel {display: flex;align-items: stretch;justify-content: center;background-color: white;position: relative;}#sk-container-id-1 div.sk-item::before, #sk-container-id-1 div.sk-parallel-item::before {content: \"\";position: absolute;border-left: 1px solid gray;box-sizing: border-box;top: 0;bottom: 0;left: 50%;z-index: -1;}#sk-container-id-1 div.sk-parallel-item {display: flex;flex-direction: column;z-index: 1;position: relative;background-color: white;}#sk-container-id-1 div.sk-parallel-item:first-child::after {align-self: flex-end;width: 50%;}#sk-container-id-1 div.sk-parallel-item:last-child::after {align-self: flex-start;width: 50%;}#sk-container-id-1 div.sk-parallel-item:only-child::after {width: 0;}#sk-container-id-1 div.sk-dashed-wrapped {border: 1px dashed gray;margin: 0 0.4em 0.5em 0.4em;box-sizing: border-box;padding-bottom: 0.4em;background-color: white;}#sk-container-id-1 div.sk-label label {font-family: monospace;font-weight: bold;display: inline-block;line-height: 1.2em;}#sk-container-id-1 div.sk-label-container {text-align: center;}#sk-container-id-1 div.sk-container {/* jupyter's `normalize.less` sets `[hidden] { display: none; }` but bootstrap.min.css set `[hidden] { display: none !important; }` so we also need the `!important` here to be able to override the default hidden behavior on the sphinx rendered scikit-learn.org. See: https://github.com/scikit-learn/scikit-learn/issues/21755 */display: inline-block !important;position: relative;}#sk-container-id-1 div.sk-text-repr-fallback {display: none;}</style><div id=\"sk-container-id-1\" class=\"sk-top-container\"><div class=\"sk-text-repr-fallback\"><pre>LinearRegression()</pre><b>In a Jupyter environment, please rerun this cell to show the HTML representation or trust the notebook. <br />On GitHub, the HTML representation is unable to render, please try loading this page with nbviewer.org.</b></div><div class=\"sk-container\" hidden><div class=\"sk-item\"><div class=\"sk-estimator sk-toggleable\"><input class=\"sk-toggleable__control sk-hidden--visually\" id=\"sk-estimator-id-1\" type=\"checkbox\" checked><label for=\"sk-estimator-id-1\" class=\"sk-toggleable__label sk-toggleable__label-arrow\">LinearRegression</label><div class=\"sk-toggleable__content\"><pre>LinearRegression()</pre></div></div></div></div></div>"
      ],
      "text/plain": [
       "LinearRegression()"
      ]
     },
     "execution_count": 19,
     "metadata": {},
     "output_type": "execute_result"
    }
   ],
   "source": [
    "lin_reg.fit(x_train,y_train)"
   ]
  },
  {
   "cell_type": "code",
   "execution_count": 20,
   "id": "d28995d3-deba-44d6-9f87-a777ac3eda24",
   "metadata": {},
   "outputs": [],
   "source": [
    "y_preds=lin_reg.predict(x_test)\n"
   ]
  },
  {
   "cell_type": "code",
   "execution_count": 21,
   "id": "72704668-b085-49fe-915e-da04ba31a61f",
   "metadata": {},
   "outputs": [
    {
     "data": {
      "text/plain": [
       "380    32.02\n",
       "854    69.50\n",
       "355    37.00\n",
       "357    35.00\n",
       "362    30.20\n",
       "       ...  \n",
       "210     5.40\n",
       "803    37.18\n",
       "582    36.36\n",
       "874    43.67\n",
       "708    46.40\n",
       "Name: Price, Length: 183, dtype: float64"
      ]
     },
     "execution_count": 21,
     "metadata": {},
     "output_type": "execute_result"
    }
   ],
   "source": [
    "y_test"
   ]
  },
  {
   "cell_type": "code",
   "execution_count": 22,
   "id": "b8260fda-2fb6-41bf-8234-d467e52f0421",
   "metadata": {},
   "outputs": [
    {
     "data": {
      "text/plain": [
       "(     Bedrooms  Bathrooms  Status  Location  Facing  Type  Size\n",
       " 380         0          0       0        22       0     3  1647\n",
       " 854         3          3       1        23       1     0  1852\n",
       " 355         2          2       1        44       1     2   960\n",
       " 357         2          2       1        44       1     0   960\n",
       " 362         0          0       0        22       0     0  1647\n",
       " ..        ...        ...     ...       ...     ...   ...   ...\n",
       " 210         0          0       0         0       3     3  1080\n",
       " 803         0          0       0        13       0     3  1809\n",
       " 582         0          0       0        13       8     3  1818\n",
       " 874         2          2       1        34       1     1  1266\n",
       " 708         0          0       0        13       3     3  3483\n",
       " \n",
       " [183 rows x 7 columns],\n",
       " array([28.27400826, 71.34005044, 42.49233384, 44.15611881, 30.76968573,\n",
       "        44.0397809 , 33.55469268, 29.44354927, 33.12024718, 51.93029613,\n",
       "        28.63213709, 22.95990627, 13.89472015, 22.72599276, 86.47613753,\n",
       "        38.24178326, 22.9909601 , 69.87221518, 28.44581411, 59.57003453,\n",
       "        44.83736307, 18.89908785, 48.54766058, 22.13596998, 51.24806698,\n",
       "        42.84333847, 65.01610108, 66.55992309, 24.98341436, 29.03978689,\n",
       "        62.5185755 , 30.68094848, 28.33067352, 72.466549  ,  2.05644809,\n",
       "        30.72546035, 42.49233384, 33.98167622, 53.63372696, 27.56784838,\n",
       "        26.2551916 , 29.19210256, 18.57605197, 42.44325635, 41.64499407,\n",
       "        44.83736307, 23.97554536,  3.6382282 , 49.13768336, 21.79036526,\n",
       "        31.53546436, 30.72546035, 48.73061687, 31.42723693, 23.22179495,\n",
       "        13.3955577 , 54.78473825, 49.66419031, 24.33936214, 39.88508608,\n",
       "        62.35023276, 73.6859619 , 13.74964742, 44.15611881, 50.68201726,\n",
       "        82.01948716, 21.98070083, 30.76528078, 40.84673179, 55.05339562,\n",
       "        64.72442178, 13.61091496, 69.97087153, 29.44824071, 31.47921076,\n",
       "        26.56157551, 65.01610108, 30.20737093, 50.91486299, 47.39690311,\n",
       "        30.5077754 , 25.44785459, 18.89908785, 25.29727687, 42.8108041 ,\n",
       "        15.89123517, 40.04464589, 44.15611881, 59.67512466, 18.38972898,\n",
       "        14.20130846, 18.6837306 , 58.15257282, 31.3950713 , 25.13762442,\n",
       "         9.90436574, 30.30966975, 60.45147042, 28.96928334, 48.23712227,\n",
       "        81.25352238, 13.3955577 , 30.78862711, 42.6029088 , 65.312954  ,\n",
       "        40.09298138, 29.0324501 , 33.48726435, 39.3112031 , 45.00503242,\n",
       "        63.64916902, 13.72061314, 16.91164269, 65.01610108, 17.47061164,\n",
       "        29.44354927, 23.22179495,  2.42370756, 13.89039943, 26.97176693,\n",
       "        -0.14078318, 26.72939495, 33.18341394, 27.99452379, 18.26646923,\n",
       "        15.57021883, 21.05716413, 44.0397809 , 60.58168906, 72.5050233 ,\n",
       "        34.29725015, 23.09863873, 26.67748371, 44.0397809 , 30.3883141 ,\n",
       "        27.11087011, 61.89789764, 43.50797293, 45.35461147, 18.36069471,\n",
       "        56.40691029, 61.03403025, 53.31069107, 15.13255266, 28.92477147,\n",
       "        30.38252262, 26.32569515, 21.79036526, 14.4331133 , 65.312954  ,\n",
       "        40.02096879, 22.26932262, 36.26878442, 33.00918176, 57.4382243 ,\n",
       "        36.47294874, 34.18957152, 56.22534132,  2.12640154, 59.45683371,\n",
       "        45.2773964 , 23.22179495, 37.34544554, 35.38737919, 21.70323591,\n",
       "        20.92893622, 27.6920637 , 38.06947329, 18.77955245, 65.01610108,\n",
       "        28.33067352, 58.42892409, 57.63499724, 25.71956898, 44.0397809 ,\n",
       "        44.15611881, 34.14132867, 27.59082399, 18.57605197, 31.42723693,\n",
       "        30.72546035, 49.06294811, 60.79955772]))"
      ]
     },
     "execution_count": 22,
     "metadata": {},
     "output_type": "execute_result"
    }
   ],
   "source": [
    "x_test,y_preds"
   ]
  },
  {
   "cell_type": "code",
   "execution_count": 23,
   "id": "f6e875ba-5c9f-469e-9d22-49b1d735249a",
   "metadata": {},
   "outputs": [],
   "source": [
    "from sklearn.metrics import r2_score,mean_squared_error"
   ]
  },
  {
   "cell_type": "code",
   "execution_count": 24,
   "id": "26363267-21f1-4857-a392-607219d39aed",
   "metadata": {},
   "outputs": [
    {
     "name": "stdout",
     "output_type": "stream",
     "text": [
      "Linear Regression Metrics/Model Evaluation:\n",
      "R_Squared error: 0.5087037141094887\n",
      "Mean Squared error: 282.5589617340104\n"
     ]
    }
   ],
   "source": [
    "print(\"Linear Regression Metrics/Model Evaluation:\")\n",
    "print(\"R_Squared error:\",r2_score(y_test,y_preds)) \n",
    "print('Mean Squared error:',mean_squared_error(y_test,y_preds))\n"
   ]
  },
  {
   "cell_type": "code",
   "execution_count": 33,
   "id": "debd4499-8d7a-4aa8-8cd2-bef5f1883a1c",
   "metadata": {},
   "outputs": [
    {
     "name": "stdin",
     "output_type": "stream",
     "text": [
      "Enter number of Bedrooms: 3\n",
      "Enter number of Bathrooms: 3\n",
      "Enter Status: 3\n",
      "Enter SQFT: 3\n",
      "Enter Location: 3\n",
      "Enter Facing: 3\n",
      "Enter type: 3\n"
     ]
    }
   ],
   "source": [
    "bedrooms=int(input('Enter number of Bedrooms:'))\n",
    "bathrooms=int(input('Enter number of Bathrooms:'))\n",
    "status=int(input('Enter Status:'))\n",
    "size=int(input('Enter SQFT:'))\n",
    "location=int(input('Enter Location:'))\n",
    "facing=int(input('Enter Facing:'))\n",
    "Type=int(input('Enter type:'))\n"
   ]
  },
  {
   "cell_type": "code",
   "execution_count": 26,
   "id": "2bfb22e0-3352-4d14-81a5-6c28eab333c8",
   "metadata": {},
   "outputs": [
    {
     "data": {
      "text/plain": [
       "Index(['Bedrooms', 'Bathrooms', 'Status', 'Location', 'Facing', 'Type',\n",
       "       'Size'],\n",
       "      dtype='object')"
      ]
     },
     "execution_count": 26,
     "metadata": {},
     "output_type": "execute_result"
    }
   ],
   "source": [
    "x.columns"
   ]
  },
  {
   "cell_type": "code",
   "execution_count": 27,
   "id": "c307bb7a-768f-4bfd-b550-3f90674bb88e",
   "metadata": {},
   "outputs": [
    {
     "data": {
      "text/plain": [
       "array([[   3,    3,    4,   56,    3,    2, 1200]])"
      ]
     },
     "execution_count": 27,
     "metadata": {},
     "output_type": "execute_result"
    }
   ],
   "source": [
    "user_input=np.array([[bedrooms,bathrooms,status,location,facing,Type,size]])\n",
    "user_input"
   ]
  },
  {
   "cell_type": "code",
   "execution_count": 28,
   "id": "30491f30-e93c-448b-9bf5-05a3390f4106",
   "metadata": {},
   "outputs": [
    {
     "name": "stderr",
     "output_type": "stream",
     "text": [
      "C:\\Users\\Deepu\\Desktop\\Project\\kits\\lib\\site-packages\\sklearn\\base.py:439: UserWarning: X does not have valid feature names, but LinearRegression was fitted with feature names\n",
      "  warnings.warn(\n"
     ]
    },
    {
     "data": {
      "text/plain": [
       "71.71"
      ]
     },
     "execution_count": 28,
     "metadata": {},
     "output_type": "execute_result"
    }
   ],
   "source": [
    "result=lin_reg.predict(user_input)[0].round(2)\n",
    "\n",
    "result"
   ]
  },
  {
   "cell_type": "code",
   "execution_count": 29,
   "id": "84bda58a-7b38-4ffc-aa04-eec845effac3",
   "metadata": {},
   "outputs": [],
   "source": [
    "import pickle\n",
    "pickle.dump(lin_reg,open('lin_model.pkl','wb'))"
   ]
  },
  {
   "cell_type": "code",
   "execution_count": 30,
   "id": "62d72939-8429-4d95-9b48-d164cfcdbdfa",
   "metadata": {},
   "outputs": [
    {
     "name": "stderr",
     "output_type": "stream",
     "text": [
      "C:\\Users\\Deepu\\Desktop\\Project\\kits\\lib\\site-packages\\sklearn\\base.py:439: UserWarning: X does not have valid feature names, but LinearRegression was fitted with feature names\n",
      "  warnings.warn(\n"
     ]
    },
    {
     "data": {
      "text/plain": [
       "71.71"
      ]
     },
     "execution_count": 30,
     "metadata": {},
     "output_type": "execute_result"
    }
   ],
   "source": [
    "model=pickle.load(open('lin_model.pkl','rb'))\n",
    "user_input=np.array([[bedrooms,bathrooms,status,location,facing,Type,size]])\n",
    "result=model.predict(user_input)[0].round(2)\n",
    "result"
   ]
  },
  {
   "cell_type": "code",
   "execution_count": 31,
   "id": "5c999cb9-c60c-40f4-a017-4a0757a69acd",
   "metadata": {},
   "outputs": [
    {
     "name": "stdout",
     "output_type": "stream",
     "text": [
      "Requirement already satisfied: streamlit in c:\\users\\deepu\\desktop\\project\\kits\\lib\\site-packages (1.29.0)\n",
      "Requirement already satisfied: altair<6,>=4.0 in c:\\users\\deepu\\desktop\\project\\kits\\lib\\site-packages (from streamlit) (5.2.0)\n",
      "Requirement already satisfied: blinker<2,>=1.0.0 in c:\\users\\deepu\\desktop\\project\\kits\\lib\\site-packages (from streamlit) (1.7.0)\n",
      "Requirement already satisfied: cachetools<6,>=4.0 in c:\\users\\deepu\\desktop\\project\\kits\\lib\\site-packages (from streamlit) (5.3.2)\n",
      "Requirement already satisfied: click<9,>=7.0 in c:\\users\\deepu\\desktop\\project\\kits\\lib\\site-packages (from streamlit) (8.1.7)\n",
      "Requirement already satisfied: importlib-metadata<7,>=1.4 in c:\\users\\deepu\\desktop\\project\\kits\\lib\\site-packages (from streamlit) (6.11.0)\n",
      "Requirement already satisfied: numpy<2,>=1.19.3 in c:\\users\\deepu\\desktop\\project\\kits\\lib\\site-packages (from streamlit) (1.26.2)\n",
      "Requirement already satisfied: packaging<24,>=16.8 in c:\\users\\deepu\\desktop\\project\\kits\\lib\\site-packages (from streamlit) (23.2)\n",
      "Requirement already satisfied: pandas<3,>=1.3.0 in c:\\users\\deepu\\desktop\\project\\kits\\lib\\site-packages (from streamlit) (2.1.4)\n",
      "Requirement already satisfied: pillow<11,>=7.1.0 in c:\\users\\deepu\\desktop\\project\\kits\\lib\\site-packages (from streamlit) (10.1.0)\n",
      "Requirement already satisfied: protobuf<5,>=3.20 in c:\\users\\deepu\\desktop\\project\\kits\\lib\\site-packages (from streamlit) (4.25.1)\n",
      "Requirement already satisfied: pyarrow>=6.0 in c:\\users\\deepu\\desktop\\project\\kits\\lib\\site-packages (from streamlit) (14.0.2)\n",
      "Requirement already satisfied: python-dateutil<3,>=2.7.3 in c:\\users\\deepu\\desktop\\project\\kits\\lib\\site-packages (from streamlit) (2.8.2)\n",
      "Requirement already satisfied: requests<3,>=2.27 in c:\\users\\deepu\\desktop\\project\\kits\\lib\\site-packages (from streamlit) (2.31.0)\n",
      "Requirement already satisfied: rich<14,>=10.14.0 in c:\\users\\deepu\\desktop\\project\\kits\\lib\\site-packages (from streamlit) (13.7.0)\n",
      "Requirement already satisfied: tenacity<9,>=8.1.0 in c:\\users\\deepu\\desktop\\project\\kits\\lib\\site-packages (from streamlit) (8.2.3)\n",
      "Requirement already satisfied: toml<2,>=0.10.1 in c:\\users\\deepu\\desktop\\project\\kits\\lib\\site-packages (from streamlit) (0.10.2)\n",
      "Requirement already satisfied: typing-extensions<5,>=4.3.0 in c:\\users\\deepu\\desktop\\project\\kits\\lib\\site-packages (from streamlit) (4.9.0)\n",
      "Requirement already satisfied: tzlocal<6,>=1.1 in c:\\users\\deepu\\desktop\\project\\kits\\lib\\site-packages (from streamlit) (5.2)\n",
      "Requirement already satisfied: validators<1,>=0.2 in c:\\users\\deepu\\desktop\\project\\kits\\lib\\site-packages (from streamlit) (0.22.0)\n",
      "Requirement already satisfied: gitpython!=3.1.19,<4,>=3.0.7 in c:\\users\\deepu\\desktop\\project\\kits\\lib\\site-packages (from streamlit) (3.1.40)\n",
      "Requirement already satisfied: pydeck<1,>=0.8.0b4 in c:\\users\\deepu\\desktop\\project\\kits\\lib\\site-packages (from streamlit) (0.8.1b0)\n",
      "Requirement already satisfied: tornado<7,>=6.0.3 in c:\\users\\deepu\\desktop\\project\\kits\\lib\\site-packages (from streamlit) (6.4)\n",
      "Requirement already satisfied: watchdog>=2.1.5 in c:\\users\\deepu\\desktop\\project\\kits\\lib\\site-packages (from streamlit) (3.0.0)\n",
      "Requirement already satisfied: jinja2 in c:\\users\\deepu\\desktop\\project\\kits\\lib\\site-packages (from altair<6,>=4.0->streamlit) (3.1.2)\n",
      "Requirement already satisfied: jsonschema>=3.0 in c:\\users\\deepu\\desktop\\project\\kits\\lib\\site-packages (from altair<6,>=4.0->streamlit) (4.20.0)\n",
      "Requirement already satisfied: toolz in c:\\users\\deepu\\desktop\\project\\kits\\lib\\site-packages (from altair<6,>=4.0->streamlit) (0.12.0)\n",
      "Requirement already satisfied: colorama in c:\\users\\deepu\\desktop\\project\\kits\\lib\\site-packages (from click<9,>=7.0->streamlit) (0.4.6)\n",
      "Requirement already satisfied: gitdb<5,>=4.0.1 in c:\\users\\deepu\\desktop\\project\\kits\\lib\\site-packages (from gitpython!=3.1.19,<4,>=3.0.7->streamlit) (4.0.11)\n",
      "Requirement already satisfied: zipp>=0.5 in c:\\users\\deepu\\desktop\\project\\kits\\lib\\site-packages (from importlib-metadata<7,>=1.4->streamlit) (3.17.0)\n",
      "Requirement already satisfied: pytz>=2020.1 in c:\\users\\deepu\\desktop\\project\\kits\\lib\\site-packages (from pandas<3,>=1.3.0->streamlit) (2023.3.post1)\n",
      "Requirement already satisfied: tzdata>=2022.1 in c:\\users\\deepu\\desktop\\project\\kits\\lib\\site-packages (from pandas<3,>=1.3.0->streamlit) (2023.3)\n",
      "Requirement already satisfied: six>=1.5 in c:\\users\\deepu\\desktop\\project\\kits\\lib\\site-packages (from python-dateutil<3,>=2.7.3->streamlit) (1.16.0)\n",
      "Requirement already satisfied: charset-normalizer<4,>=2 in c:\\users\\deepu\\desktop\\project\\kits\\lib\\site-packages (from requests<3,>=2.27->streamlit) (3.3.2)\n",
      "Requirement already satisfied: idna<4,>=2.5 in c:\\users\\deepu\\desktop\\project\\kits\\lib\\site-packages (from requests<3,>=2.27->streamlit) (3.6)\n",
      "Requirement already satisfied: urllib3<3,>=1.21.1 in c:\\users\\deepu\\desktop\\project\\kits\\lib\\site-packages (from requests<3,>=2.27->streamlit) (2.1.0)\n",
      "Requirement already satisfied: certifi>=2017.4.17 in c:\\users\\deepu\\desktop\\project\\kits\\lib\\site-packages (from requests<3,>=2.27->streamlit) (2023.11.17)\n",
      "Requirement already satisfied: markdown-it-py>=2.2.0 in c:\\users\\deepu\\desktop\\project\\kits\\lib\\site-packages (from rich<14,>=10.14.0->streamlit) (3.0.0)\n",
      "Requirement already satisfied: pygments<3.0.0,>=2.13.0 in c:\\users\\deepu\\desktop\\project\\kits\\lib\\site-packages (from rich<14,>=10.14.0->streamlit) (2.17.2)\n",
      "Requirement already satisfied: smmap<6,>=3.0.1 in c:\\users\\deepu\\desktop\\project\\kits\\lib\\site-packages (from gitdb<5,>=4.0.1->gitpython!=3.1.19,<4,>=3.0.7->streamlit) (5.0.1)\n",
      "Requirement already satisfied: MarkupSafe>=2.0 in c:\\users\\deepu\\desktop\\project\\kits\\lib\\site-packages (from jinja2->altair<6,>=4.0->streamlit) (2.1.3)\n",
      "Requirement already satisfied: attrs>=22.2.0 in c:\\users\\deepu\\desktop\\project\\kits\\lib\\site-packages (from jsonschema>=3.0->altair<6,>=4.0->streamlit) (23.1.0)\n",
      "Requirement already satisfied: jsonschema-specifications>=2023.03.6 in c:\\users\\deepu\\desktop\\project\\kits\\lib\\site-packages (from jsonschema>=3.0->altair<6,>=4.0->streamlit) (2023.12.1)\n",
      "Requirement already satisfied: referencing>=0.28.4 in c:\\users\\deepu\\desktop\\project\\kits\\lib\\site-packages (from jsonschema>=3.0->altair<6,>=4.0->streamlit) (0.32.0)\n",
      "Requirement already satisfied: rpds-py>=0.7.1 in c:\\users\\deepu\\desktop\\project\\kits\\lib\\site-packages (from jsonschema>=3.0->altair<6,>=4.0->streamlit) (0.15.2)\n",
      "Requirement already satisfied: mdurl~=0.1 in c:\\users\\deepu\\desktop\\project\\kits\\lib\\site-packages (from markdown-it-py>=2.2.0->rich<14,>=10.14.0->streamlit) (0.1.2)\n"
     ]
    }
   ],
   "source": [
    "!pip install streamlit"
   ]
  },
  {
   "cell_type": "code",
   "execution_count": 32,
   "id": "6a3e4492-fa53-405a-80b9-fea0f0d46f19",
   "metadata": {},
   "outputs": [],
   "source": [
    "for col in data.columns:\n",
    "  if data[col].dtype == 'object':\n",
    "    data[col] = label.fit_transform(data[col])\n",
    "    encoded_to_original = dict(zip(label.transform(label.classes_),\n",
    "                                  label.classes_))\n",
    "    print(col,' = {')\n",
    "    for encoded_label, original_value in encoded_to_original.items():\n",
    "      print(f'\"{original_value}\" : {encoded_label}',end=',')\n",
    "    print('}')\n",
    "    print('----------------------------------------------------------------')"
   ]
  },
  {
   "cell_type": "code",
   "execution_count": null,
   "id": "69a8148e-01c7-4b54-b35e-f1c92fd07579",
   "metadata": {},
   "outputs": [],
   "source": []
  }
 ],
 "metadata": {
  "kernelspec": {
   "display_name": "Python 3 (ipykernel)",
   "language": "python",
   "name": "python3"
  },
  "language_info": {
   "codemirror_mode": {
    "name": "ipython",
    "version": 3
   },
   "file_extension": ".py",
   "mimetype": "text/x-python",
   "name": "python",
   "nbconvert_exporter": "python",
   "pygments_lexer": "ipython3",
   "version": "3.10.7"
  }
 },
 "nbformat": 4,
 "nbformat_minor": 5
}
